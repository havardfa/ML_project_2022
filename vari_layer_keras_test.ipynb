{
  "nbformat": 4,
  "nbformat_minor": 0,
  "metadata": {
    "colab": {
      "provenance": [],
      "mount_file_id": "1OL5uMOooPbDe2uhGJHzVpZdAY4mJAfsm",
      "authorship_tag": "ABX9TyObOQIejK9wjDCqiSmvRVlU",
      "include_colab_link": true
    },
    "kernelspec": {
      "name": "python3",
      "display_name": "Python 3"
    },
    "language_info": {
      "name": "python"
    }
  },
  "cells": [
    {
      "cell_type": "markdown",
      "metadata": {
        "id": "view-in-github",
        "colab_type": "text"
      },
      "source": [
        "<a href=\"https://colab.research.google.com/github/havardfa/ML_project_2022/blob/main/vari_layer_keras_test.ipynb\" target=\"_parent\"><img src=\"https://colab.research.google.com/assets/colab-badge.svg\" alt=\"Open In Colab\"/></a>"
      ]
    },
    {
      "cell_type": "code",
      "source": [
        "# We import the necessary packages\n",
        "import numpy as np\n",
        "import matplotlib.pyplot as plt\n",
        "import warnings\n",
        "warnings.filterwarnings('ignore')\n",
        "import tensorflow as tf\n",
        "#----------------------------------------------------------------------------------------------------------------\n",
        "# Import SciKitLearn for normalization and splitting of data\n",
        "#----------------------------------------------------------------------------------------------------------------\n",
        "from sklearn.model_selection import train_test_split\n",
        "from sklearn import preprocessing"
      ],
      "metadata": {
        "id": "9ZAIMtxhFkii"
      },
      "execution_count": 12,
      "outputs": []
    },
    {
      "cell_type": "code",
      "source": [
        "import pandas as pd\n",
        "\n",
        "import random\n",
        "import numpy as np\n",
        "\n",
        "random.seed(42)\n",
        "np.random.seed(42)\n",
        "\n",
        "filename =r'C:\\Users\\haavamfa\\Documents\\PhD\\Abaqus_Preprocessed\\with_length_and_time\\scripted_thermal_048_nov_smallerbase_4layers_compressed.csv'\n",
        "scaling_filename = r'C:\\Users\\haavamfa\\Documents\\PhD\\Abaqus_Preprocessed\\with_length_and_time\\scripted_thermal_048_des_smallerbase_4layers_0,01speed_compressed.csv'\n",
        "preditcion_filename = r'C:\\Users\\haavamfa\\Documents\\PhD\\Abaqus_Preprocessed\\with_length_and_time\\scripted_thermal_048_jan_smallerbase_4layers_0045speed_compressed.csv'\n",
        "\n",
        "data = np.loadtxt(filename, delimiter = ',',skiprows = 1, usecols = (2, 1, 3, 4, 5, 6, 7))\n",
        "data_scaling = np.loadtxt(scaling_filename, delimiter = ',',skiprows = 1, usecols = (2, 1, 3, 4, 5, 6, 7))\n",
        "\n",
        "\n"
      ],
      "metadata": {
        "id": "HwYxhCPcSv9q"
      },
      "execution_count": 19,
      "outputs": []
    },
    {
      "cell_type": "code",
      "source": [
        "scaler = preprocessing.MinMaxScaler().fit(data_scaling)\n",
        "scaled_data = scaler.transform(data)\n",
        "\n",
        "X_scaled = scaled_data[:,1:]\n",
        "Y_scaled = scaled_data[:,0:1]\n",
        "\n",
        "#Train/val/test split\n",
        "\n",
        "X_train, X_val, Y_train, Y_val = train_test_split(X_scaled, Y_scaled,test_size = 0.2,random_state = 42)\n",
        "\n",
        "#X_val, X_test, Y_val, Y_test = train_test_split(X_rem, Y_rem, test_size = 0.5, random_state=42)\n"
      ],
      "metadata": {
        "id": "QsYwlY_G-x_A"
      },
      "execution_count": 14,
      "outputs": []
    },
    {
      "cell_type": "code",
      "source": [
        "optim = tf.keras.optimizers.Adam(lr=2e-3)\n",
        "\n",
        "model = tf.keras.models.Sequential()\n",
        "model.add(tf.keras.layers.Dense(units=64, activation='relu',input_shape=(6,)))\n",
        "model.add(tf.keras.layers.Dense(units=64, activation='relu'))\n",
        "model.add(tf.keras.layers.Dense(units=2, activation='linear'))\n",
        "model.compile(loss='mae', optimizer=optim)"
      ],
      "metadata": {
        "id": "ufLTX76AfyO7"
      },
      "execution_count": 16,
      "outputs": []
    },
    {
      "cell_type": "code",
      "source": [
        "history = model.fit(X_train, Y_train, epochs=5,validation_data=(X_val,Y_val), verbose=0)"
      ],
      "metadata": {
        "id": "rjdkYnU1fzhr"
      },
      "execution_count": 17,
      "outputs": []
    },
    {
      "cell_type": "code",
      "source": [
        "plt.rcParams[\"figure.figsize\"] = (20, 10)\n",
        "fig,axs = plt.subplots(1,1)\n",
        "# Plot training/validation loss\n",
        "axs.semilogy(history.history['loss'],label='training')\n",
        "axs.semilogy(history.history['val_loss'],label='validation')\n",
        "axs.set_xlabel('Epoch')\n",
        "axs.set_ylabel('Error')\n",
        "axs.legend()\n",
        "axs.grid()\n"
      ],
      "metadata": {
        "id": "OxveZQnub84a",
        "colab": {
          "base_uri": "https://localhost:8080/",
          "height": 279
        },
        "outputId": "263fd841-789e-4c9d-d250-b7dd2322bc79"
      },
      "execution_count": 18,
      "outputs": [
        {
          "output_type": "display_data",
          "data": {
            "text/plain": [
              "<Figure size 432x288 with 1 Axes>"
            ],
            "image/png": "[encoded data removed]"
          },
          "metadata": {
            "needs_background": "light"
          }
        }
      ]
    },
    {
      "cell_type": "code",
      "source": [
        "data_prediction = np.loadtxt(preditcion_filename,delimiter=',',skiprows = 1, usecols = (2, 1, 3, 4, 5, 6, 7))\n",
        "\n",
        "scaled_prediction_data = scaler.transform(data_prediction)\n",
        "\n",
        "X_prediction_scaled = scaled_prediction_data[:,1:]\n",
        "Y_prediction_scaled = scaled_prediction_data[:,0:1]\n",
        "\n",
        "fast_system_prediction = model.predict(X_prediction_scaled)\n",
        "\n",
        "plt.rcParams[\"figure.figsize\"] = (15, 10)\n",
        "fig,axs = plt.subplots(1,2)\n",
        "axs[0].scatter(Y_prediction_scaled,fast_system_prediction)\n",
        "axs[0].plot([0,1200],[0,1200])\n",
        "axs[0].set_xlabel('Measured')\n",
        "axs[0].set_ylabel('Predicted')\n",
        "axs[0].grid()"
      ],
      "metadata": {
        "id": "D-DBDiXPeZG3"
      },
      "execution_count": null,
      "outputs": []
    }
  ]
}